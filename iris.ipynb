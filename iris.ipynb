{
 "cells": [
  {
   "attachments": {},
   "cell_type": "markdown",
   "id": "8b14cabe-8a0f-43dd-bb29-4930aee7b80c",
   "metadata": {
    "editable": false
   },
   "source": [
    "# Classification of Iris Using MLP"
   ]
  },
  {
   "cell_type": "code",
   "execution_count": 5,
   "id": "c65b6b3b-28f3-450a-8ece-d0672ee03838",
   "metadata": {
    "editable": false
   },
   "outputs": [],
   "source": [
    "import numpy as np\n",
    "import pandas as pd\n",
    "import warnings\n",
    "from torch import nn\n",
    "from torchsummaryX import summary\n",
    "from torch.optim import (Optimizer, Adam)\n",
    "from torch.nn.functional import cross_entropy\n",
    "from torchmetrics import Accuracy\n",
    "warnings.filterwarnings('ignore')\n",
    "import torch\n",
    "from torch.utils.data import (\n",
    "    DataLoader,\n",
    "    TensorDataset,\n",
    "    Dataset\n",
    ")"
   ]
  },
  {
   "cell_type": "code",
   "execution_count": 6,
   "id": "6f3dd69d-4fd6-4de5-97cf-cdf971bc20c4",
   "metadata": {
    "editable": false
   },
   "outputs": [],
   "source": [
    "#\n",
    "# load the iris dataset as a dataframe.\n",
    "#\n",
    "\n",
    "df = pd.read_csv('my_data/iris.csv')"
   ]
  },
  {
   "cell_type": "code",
   "execution_count": 7,
   "id": "b584393c-be6b-4000-a40e-b88ff7f475d2",
   "metadata": {},
   "outputs": [
    {
     "data": {
      "text/html": [
       "<div>\n",
       "<style scoped>\n",
       "    .dataframe tbody tr th:only-of-type {\n",
       "        vertical-align: middle;\n",
       "    }\n",
       "\n",
       "    .dataframe tbody tr th {\n",
       "        vertical-align: top;\n",
       "    }\n",
       "\n",
       "    .dataframe thead th {\n",
       "        text-align: right;\n",
       "    }\n",
       "</style>\n",
       "<table border=\"1\" class=\"dataframe\">\n",
       "  <thead>\n",
       "    <tr style=\"text-align: right;\">\n",
       "      <th></th>\n",
       "      <th>sepal_l</th>\n",
       "      <th>sepal_w</th>\n",
       "      <th>petal_l</th>\n",
       "      <th>petal_w</th>\n",
       "      <th>species</th>\n",
       "    </tr>\n",
       "  </thead>\n",
       "  <tbody>\n",
       "    <tr>\n",
       "      <th>0</th>\n",
       "      <td>6.1</td>\n",
       "      <td>2.8</td>\n",
       "      <td>4.7</td>\n",
       "      <td>1.2</td>\n",
       "      <td>1</td>\n",
       "    </tr>\n",
       "    <tr>\n",
       "      <th>1</th>\n",
       "      <td>5.4</td>\n",
       "      <td>3.9</td>\n",
       "      <td>1.3</td>\n",
       "      <td>0.4</td>\n",
       "      <td>0</td>\n",
       "    </tr>\n",
       "    <tr>\n",
       "      <th>2</th>\n",
       "      <td>6.5</td>\n",
       "      <td>3.0</td>\n",
       "      <td>5.8</td>\n",
       "      <td>2.2</td>\n",
       "      <td>2</td>\n",
       "    </tr>\n",
       "    <tr>\n",
       "      <th>3</th>\n",
       "      <td>5.1</td>\n",
       "      <td>3.5</td>\n",
       "      <td>1.4</td>\n",
       "      <td>0.3</td>\n",
       "      <td>0</td>\n",
       "    </tr>\n",
       "    <tr>\n",
       "      <th>4</th>\n",
       "      <td>5.9</td>\n",
       "      <td>3.0</td>\n",
       "      <td>4.2</td>\n",
       "      <td>1.5</td>\n",
       "      <td>1</td>\n",
       "    </tr>\n",
       "  </tbody>\n",
       "</table>\n",
       "</div>"
      ],
      "text/plain": [
       "   sepal_l  sepal_w  petal_l  petal_w  species\n",
       "0      6.1      2.8      4.7      1.2        1\n",
       "1      5.4      3.9      1.3      0.4        0\n",
       "2      6.5      3.0      5.8      2.2        2\n",
       "3      5.1      3.5      1.4      0.3        0\n",
       "4      5.9      3.0      4.2      1.5        1"
      ]
     },
     "execution_count": 7,
     "metadata": {},
     "output_type": "execute_result"
    }
   ],
   "source": [
    "df.head()"
   ]
  },
  {
   "attachments": {},
   "cell_type": "markdown",
   "id": "ebd00e2e-010e-4f93-88c3-e8854d4ddc2b",
   "metadata": {
    "editable": false
   },
   "source": [
    "## Constructing PyTorch datasets"
   ]
  },
  {
   "cell_type": "code",
   "execution_count": 9,
   "id": "ad9f7898",
   "metadata": {},
   "outputs": [],
   "source": [
    "def make_dataset(df: pd.DataFrame) -> Dataset:\n",
    "    # Extract features and target\n",
    "    X = df.drop(columns=['species']).values\n",
    "    Y = df['species'].values\n",
    "    \n",
    "    # Construct Tensors\n",
    "    x = torch.tensor(X, dtype=torch.float32)\n",
    "    y = torch.tensor(Y, dtype=torch.int64)\n",
    "    \n",
    "    dataset = TensorDataset(x, y)\n",
    "    \n",
    "    return dataset"
   ]
  },
  {
   "cell_type": "code",
   "execution_count": 10,
   "id": "07383258-23ef-400c-b130-9dac651ecad0",
   "metadata": {
    "editable": false
   },
   "outputs": [
    {
     "name": "stdout",
     "output_type": "stream",
     "text": [
      "First input tensor([6.1000, 2.8000, 4.7000, 1.2000]).  Its dtype must be torch.float32.\n",
      "First output 1.  Its dtype must be torch.int64.\n"
     ]
    }
   ],
   "source": [
    "train_dataset = make_dataset(df)\n",
    "(x, y) = train_dataset[0]\n",
    "print(f\"First input {x}.  Its dtype must be {x.dtype}.\")\n",
    "print(f\"First output {y}.  Its dtype must be {y.dtype}.\")"
   ]
  },
  {
   "attachments": {},
   "cell_type": "markdown",
   "id": "750872ed-506a-4105-a53b-dfd17bde8395",
   "metadata": {
    "editable": false
   },
   "source": [
    "## Constructing PyTorch dataloader"
   ]
  },
  {
   "cell_type": "code",
   "execution_count": 11,
   "id": "6b7edc42",
   "metadata": {},
   "outputs": [],
   "source": [
    "def make_dataloader(dataset: Dataset, batch_size:int, shuffle:bool) -> DataLoader:\n",
    "    loader = DataLoader(dataset, batch_size= batch_size, shuffle = shuffle, pin_memory= True)\n",
    "    return loader"
   ]
  },
  {
   "cell_type": "code",
   "execution_count": 12,
   "id": "28e1fbee-5e11-47f2-871e-7d15a087e6d3",
   "metadata": {
    "editable": false
   },
   "outputs": [
    {
     "data": {
      "text/plain": [
       "[tensor([[6.1000, 2.8000, 4.7000, 1.2000],\n",
       "         [5.4000, 3.9000, 1.3000, 0.4000],\n",
       "         [6.5000, 3.0000, 5.8000, 2.2000],\n",
       "         [5.1000, 3.5000, 1.4000, 0.3000],\n",
       "         [5.9000, 3.0000, 4.2000, 1.5000]]),\n",
       " tensor([1, 0, 2, 0, 1])]"
      ]
     },
     "execution_count": 12,
     "metadata": {},
     "output_type": "execute_result"
    }
   ],
   "source": [
    "train_dataloader = make_dataloader(train_dataset, shuffle=False, batch_size=5)\n",
    "first_batch = next(iter(train_dataloader))\n",
    "first_batch"
   ]
  },
  {
   "attachments": {},
   "cell_type": "markdown",
   "id": "5f4bf1d6-31ab-448e-b1a2-4e506a09d3ae",
   "metadata": {
    "editable": false
   },
   "source": [
    "## Linear classifier"
   ]
  },
  {
   "cell_type": "code",
   "execution_count": 14,
   "id": "832d07e2",
   "metadata": {},
   "outputs": [],
   "source": [
    "class LinearClassifier(nn.Module):\n",
    "    def __init__(self):\n",
    "        super().__init__()\n",
    "        self.linear = nn.Linear(4,3)\n",
    "\n",
    "    def forward(self, x):\n",
    "        return nn.functional.softmax(self.linear(x), dim=-1)"
   ]
  },
  {
   "cell_type": "code",
   "execution_count": 15,
   "id": "12cb5a89-7891-49d1-affa-4c7b1cd124bc",
   "metadata": {
    "editable": false
   },
   "outputs": [
    {
     "name": "stdout",
     "output_type": "stream",
     "text": [
      "=====================================================\n",
      "         Kernel Shape Output Shape  Params  Mult-Adds\n",
      "Layer                                                \n",
      "0_linear       [4, 3]      [32, 3]      15         12\n",
      "-----------------------------------------------------\n",
      "                      Totals\n",
      "Total params              15\n",
      "Trainable params          15\n",
      "Non-trainable params       0\n",
      "Mult-Adds                 12\n",
      "=====================================================\n"
     ]
    }
   ],
   "source": [
    "m = LinearClassifier()\n",
    "summary(m, torch.zeros(32, 4));"
   ]
  },
  {
   "attachments": {},
   "cell_type": "markdown",
   "id": "f4f8919b-c3bc-4bf9-851e-fcd507ee5b6c",
   "metadata": {
    "editable": false
   },
   "source": [
    "## Training loop"
   ]
  },
  {
   "cell_type": "code",
   "execution_count": 17,
   "id": "4dcff6c5-c061-4519-97ec-65f82b1fa0d3",
   "metadata": {
    "editable": false
   },
   "outputs": [],
   "source": [
    "def train(model: nn.Module, optimizer: Optimizer, dataloader: DataLoader, epochs: int):\n",
    "    history = []\n",
    "    accuracy = Accuracy(task='multiclass', num_classes=3)\n",
    "    for epoch in range(epochs):\n",
    "        for (x, target) in dataloader:\n",
    "            pred = model(x)\n",
    "            loss = cross_entropy(pred, target)\n",
    "            loss.backward()\n",
    "            optimizer.step()\n",
    "            optimizer.zero_grad()\n",
    "        metrics = {\n",
    "            'epoch': epoch,\n",
    "            'loss': loss.item(),\n",
    "            'acc': accuracy(pred, target).item()\n",
    "        }\n",
    "        if epoch % (epochs // 10) == 0:\n",
    "            print(\"{epoch}: loss={loss:.4f}, acc={acc:.2f}\".format(**metrics))\n",
    "        history.append(metrics)\n",
    "    return pd.DataFrame(history)"
   ]
  },
  {
   "cell_type": "code",
   "execution_count": 18,
   "id": "b25e84b4",
   "metadata": {},
   "outputs": [
    {
     "name": "stdout",
     "output_type": "stream",
     "text": [
      "0: loss=0.8623, acc=0.77\n",
      "10: loss=0.6475, acc=0.95\n",
      "20: loss=0.6128, acc=0.95\n",
      "30: loss=0.6003, acc=0.95\n",
      "40: loss=0.5938, acc=0.95\n",
      "50: loss=0.5899, acc=0.95\n",
      "60: loss=0.5872, acc=0.95\n",
      "70: loss=0.5853, acc=0.95\n",
      "80: loss=0.5838, acc=0.95\n",
      "90: loss=0.5827, acc=0.95\n"
     ]
    }
   ],
   "source": [
    "dataloader = make_dataloader(train_dataset, shuffle=False, batch_size=32)\n",
    "linearclassifier = LinearClassifier()\n",
    "optimizer = Adam(linearclassifier.parameters(), lr=0.1)\n",
    "history_linear = train(linearclassifier, optimizer, dataloader, 100)"
   ]
  },
  {
   "cell_type": "code",
   "execution_count": 19,
   "id": "fe715ec5-bcd2-4fd8-8642-6440239133c2",
   "metadata": {
    "editable": false
   },
   "outputs": [
    {
     "name": "stdout",
     "output_type": "stream",
     "text": [
      "linear classifier acc > 50%? True\n",
      "linear classifier acc < 90%? False\n"
     ]
    }
   ],
   "source": [
    "print(\"linear classifier acc > 50%?\", history_linear.acc.iloc[-1] > 0.5)\n",
    "print(\"linear classifier acc < 90%?\", history_linear.acc.iloc[-1] < 0.9)"
   ]
  },
  {
   "cell_type": "code",
   "execution_count": 20,
   "id": "6ca5f5cd-1b00-4973-8b28-bad040dbd9b1",
   "metadata": {
    "editable": false
   },
   "outputs": [
    {
     "data": {
      "image/png": "[encoded data removed]",
      "text/plain": [
       "<Figure size 1000x400 with 2 Axes>"
      ]
     },
     "metadata": {},
     "output_type": "display_data"
    }
   ],
   "source": [
    "#\n",
    "# Plotting the loss function and accuracy\n",
    "#\n",
    "import matplotlib.pyplot as plt\n",
    "fig, axes = plt.subplots(ncols=2, figsize=(10,4))\n",
    "history_linear.loss.plot.line(ax=axes[0])\n",
    "history_linear.acc.plot.line(ax=axes[1]);"
   ]
  },
  {
   "attachments": {},
   "cell_type": "markdown",
   "id": "ae76286b-00a9-4b2f-b37b-f2466ab347de",
   "metadata": {
    "editable": false
   },
   "source": [
    "## MLP with hidden layer"
   ]
  },
  {
   "cell_type": "code",
   "execution_count": 21,
   "id": "6c54db42",
   "metadata": {},
   "outputs": [],
   "source": [
    "class MLPClassifier(nn.Module):\n",
    "    def __init__(self):\n",
    "        super().__init__()\n",
    "        self.linear1 = nn.Linear(4, 100)\n",
    "        self.act1 = nn.ReLU()\n",
    "        self.output = nn.Linear(100, 3)\n",
    "        \n",
    "    def forward(self, x):\n",
    "        x = self.linear1(x)\n",
    "        x = self.act1(x)\n",
    "        x = self.output(x)\n",
    "        return x"
   ]
  },
  {
   "cell_type": "code",
   "execution_count": 22,
   "id": "8d6ed4f0-fca4-491c-aa2a-8413fae8311a",
   "metadata": {
    "editable": false
   },
   "outputs": [
    {
     "name": "stdout",
     "output_type": "stream",
     "text": [
      "======================================================\n",
      "          Kernel Shape Output Shape Params Mult-Adds\n",
      "Layer                                               \n",
      "0_linear1     [4, 100]    [32, 100]  500.0     400.0\n",
      "1_act1               -    [32, 100]      -         -\n",
      "2_output      [100, 3]      [32, 3]  303.0     300.0\n",
      "------------------------------------------------------\n",
      "                      Totals\n",
      "Total params           803.0\n",
      "Trainable params       803.0\n",
      "Non-trainable params     0.0\n",
      "Mult-Adds              700.0\n",
      "======================================================\n"
     ]
    }
   ],
   "source": [
    "m = MLPClassifier()\n",
    "summary(m, torch.zeros(32, 4));"
   ]
  },
  {
   "cell_type": "code",
   "execution_count": 23,
   "id": "060632aa-4adf-4e58-8c54-11d0f6f9e363",
   "metadata": {
    "editable": false
   },
   "outputs": [
    {
     "name": "stdout",
     "output_type": "stream",
     "text": [
      "0: loss=1.0589, acc=0.59\n",
      "10: loss=0.5603, acc=0.82\n",
      "20: loss=0.3798, acc=0.95\n",
      "30: loss=0.2923, acc=0.95\n",
      "40: loss=0.2337, acc=0.95\n",
      "50: loss=0.1910, acc=0.95\n",
      "60: loss=0.1592, acc=0.95\n",
      "70: loss=0.1352, acc=0.95\n",
      "80: loss=0.1170, acc=0.95\n",
      "90: loss=0.1030, acc=0.95\n"
     ]
    }
   ],
   "source": [
    "#\n",
    "# training the MLP model\n",
    "#\n",
    "mlp = MLPClassifier()\n",
    "optimizer = Adam(mlp.parameters())\n",
    "dataloader = make_dataloader(train_dataset, shuffle=False, batch_size=32)\n",
    "\n",
    "history_mlp = train(mlp, optimizer, dataloader, 100)"
   ]
  },
  {
   "cell_type": "code",
   "execution_count": 24,
   "id": "c5073c24-e06f-4caf-abe5-40c86ed54bc9",
   "metadata": {
    "editable": false
   },
   "outputs": [
    {
     "data": {
      "text/plain": [
       "True"
      ]
     },
     "execution_count": 24,
     "metadata": {},
     "output_type": "execute_result"
    }
   ],
   "source": [
    "history_mlp.acc.iloc[-1] > 0.9"
   ]
  },
  {
   "cell_type": "code",
   "execution_count": 25,
   "id": "5bbe7cea-2912-4462-ae4d-8c091e930e2c",
   "metadata": {
    "editable": false
   },
   "outputs": [
    {
     "data": {
      "image/png": "[encoded data removed]",
      "text/plain": [
       "<Figure size 1000x400 with 2 Axes>"
      ]
     },
     "metadata": {},
     "output_type": "display_data"
    }
   ],
   "source": [
    "#\n",
    "# Plotting the loss function and accuracy\n",
    "#\n",
    "import matplotlib.pyplot as plt\n",
    "fig, axes = plt.subplots(ncols=2, figsize=(10,4))\n",
    "history_mlp.loss.plot.line(ax=axes[0])\n",
    "history_mlp.acc.plot.line(ax=axes[1]);"
   ]
  },
  {
   "attachments": {},
   "cell_type": "markdown",
   "id": "4b6cb676-ec19-43d4-b0cf-df3a56b23833",
   "metadata": {
    "editable": false
   },
   "source": [
    "## MLP2DClassifier"
   ]
  },
  {
   "cell_type": "code",
   "execution_count": 26,
   "id": "21ea0b6a",
   "metadata": {},
   "outputs": [],
   "source": [
    "class MLP2DClassifier(nn.Module):\n",
    "    def __init__(self):\n",
    "        super().__init__()\n",
    "        self.linear1 = nn.Linear(4, 100)\n",
    "        self.act1 = nn.ReLU()\n",
    "        self.linear2 = nn.Linear(100, 2)\n",
    "        self.output = nn.Linear(2,3)\n",
    "        \n",
    "    def forward(self, x):\n",
    "        x = self.linear1(x)\n",
    "        x = self.act1(x)\n",
    "        x = self.linear2(x)\n",
    "        x = self.output(x)\n",
    "        return x\n",
    "    \n",
    "    def hiddenFeature(self, x):\n",
    "        x = self.linear1(x)\n",
    "        x = self.act1(x)\n",
    "        x = self.linear2(x)\n",
    "        return x"
   ]
  },
  {
   "cell_type": "code",
   "execution_count": 27,
   "id": "ed63e0b5-5066-47be-887e-02845e62b04e",
   "metadata": {
    "editable": false
   },
   "outputs": [
    {
     "name": "stdout",
     "output_type": "stream",
     "text": [
      "======================================================\n",
      "          Kernel Shape Output Shape Params Mult-Adds\n",
      "Layer                                               \n",
      "0_linear1     [4, 100]    [32, 100]  500.0     400.0\n",
      "1_act1               -    [32, 100]      -         -\n",
      "2_linear2     [100, 2]      [32, 2]  202.0     200.0\n",
      "3_output        [2, 3]      [32, 3]    9.0       6.0\n",
      "------------------------------------------------------\n",
      "                      Totals\n",
      "Total params           711.0\n",
      "Trainable params       711.0\n",
      "Non-trainable params     0.0\n",
      "Mult-Adds              606.0\n",
      "======================================================\n"
     ]
    }
   ],
   "source": [
    "m = MLP2DClassifier()\n",
    "summary(m, torch.zeros(32, 4));"
   ]
  },
  {
   "cell_type": "code",
   "execution_count": 28,
   "id": "337caff6-ca99-4477-8ffd-ca055b609681",
   "metadata": {
    "editable": false
   },
   "outputs": [
    {
     "name": "stdout",
     "output_type": "stream",
     "text": [
      "0: loss=1.1639, acc=0.41\n",
      "10: loss=0.8174, acc=0.77\n",
      "20: loss=0.5517, acc=0.82\n",
      "30: loss=0.3938, acc=0.95\n",
      "40: loss=0.3029, acc=0.95\n",
      "50: loss=0.2347, acc=0.95\n",
      "60: loss=0.1824, acc=0.95\n",
      "70: loss=0.1437, acc=0.95\n",
      "80: loss=0.1162, acc=0.95\n",
      "90: loss=0.0970, acc=0.95\n"
     ]
    }
   ],
   "source": [
    "mlp2 = MLP2DClassifier()\n",
    "optimizer = Adam(mlp2.parameters())\n",
    "dataloader = make_dataloader(train_dataset, shuffle=False, batch_size=32)\n",
    "history_mlp2 = train(mlp2, optimizer, dataloader, 100)"
   ]
  },
  {
   "cell_type": "code",
   "execution_count": 29,
   "id": "9b6b8e17-4e1f-41ce-b935-70faeddeb8a1",
   "metadata": {
    "editable": false
   },
   "outputs": [
    {
     "data": {
      "text/plain": [
       "True"
      ]
     },
     "execution_count": 29,
     "metadata": {},
     "output_type": "execute_result"
    }
   ],
   "source": [
    "history_mlp2.acc.iloc[-1] > 0.9"
   ]
  },
  {
   "cell_type": "code",
   "execution_count": 30,
   "id": "cc43ef68-0434-44a3-ae8b-9d79cdec730e",
   "metadata": {
    "editable": false
   },
   "outputs": [],
   "source": [
    "#\n",
    "# computing the hidden features for the first 100 training samples\n",
    "#\n",
    "\n",
    "(x, target) = train_dataset[0:100]\n",
    "with torch.no_grad():\n",
    "    x2 = mlp2.hiddenFeature(x)"
   ]
  },
  {
   "cell_type": "code",
   "execution_count": 31,
   "id": "1fb16c76-55ce-4754-8e29-bc1efb8ecc8d",
   "metadata": {
    "editable": false
   },
   "outputs": [
    {
     "data": {
      "text/plain": [
       "torch.Size([100, 2])"
      ]
     },
     "execution_count": 31,
     "metadata": {},
     "output_type": "execute_result"
    }
   ],
   "source": [
    "x2.shape"
   ]
  },
  {
   "cell_type": "code",
   "execution_count": 32,
   "id": "d5b8d733-b362-4ca9-a0ac-2be9884dc09e",
   "metadata": {
    "editable": false
   },
   "outputs": [
    {
     "data": {
      "image/png": "[encoded data removed]",
      "text/plain": [
       "<Figure size 500x500 with 1 Axes>"
      ]
     },
     "metadata": {},
     "output_type": "display_data"
    }
   ],
   "source": [
    "#\n",
    "# Plotting the three species using their hidden features\n",
    "#\n",
    "\n",
    "I0 = target == 0\n",
    "I1 = target == 1\n",
    "I2 = target == 2\n",
    "\n",
    "plt.figure(figsize=(5,5))\n",
    "plt.plot(x2[I0, 0], x2[I0, 1], '*', color='red');\n",
    "plt.plot(x2[I1, 0], x2[I1, 1], '+', color='green');\n",
    "plt.plot(x2[I2, 0], x2[I2, 1], '^', color='blue');"
   ]
  }
 ],
 "metadata": {
  "kernelspec": {
   "display_name": "Python 3 (ipykernel)",
   "language": "python",
   "name": "python3"
  },
  "language_info": {
   "codemirror_mode": {
    "name": "ipython",
    "version": 3
   },
   "file_extension": ".py",
   "mimetype": "text/x-python",
   "name": "python",
   "nbconvert_exporter": "python",
   "pygments_lexer": "ipython3",
   "version": "3.10.8"
  }
 },
 "nbformat": 4,
 "nbformat_minor": 5
}
